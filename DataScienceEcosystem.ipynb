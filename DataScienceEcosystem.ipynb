{
  "metadata": {
    "kernelspec": {
      "name": "python",
      "display_name": "Python (Pyodide)",
      "language": "python"
    },
    "language_info": {
      "codemirror_mode": {
        "name": "python",
        "version": 3
      },
      "file_extension": ".py",
      "mimetype": "text/x-python",
      "name": "python",
      "nbconvert_exporter": "python",
      "pygments_lexer": "ipython3",
      "version": "3.8"
    }
  },
  "nbformat_minor": 5,
  "nbformat": 4,
  "cells": [
    {
      "id": "9ad49dff-03cb-447b-a93d-5de8854caa15",
      "cell_type": "markdown",
      "source": "# Data Science Tools and Ecosystem",
      "metadata": {}
    },
    {
      "id": "848729df-7acc-4103-928d-4098c3a928e2",
      "cell_type": "markdown",
      "source": "In this notebook, Data Science Tools and Ecosystem are summarized.",
      "metadata": {}
    },
    {
      "id": "7d768205-0e3e-4c2c-8c3a-63a8f4329e44",
      "cell_type": "markdown",
      "source": "**Objectives:**\n\n- List popular languages for Data Science\n- List of commonly used libraries in data science\n- Table of open source tools used in data science\n- Some examples of arithmetic expressions in python\n",
      "metadata": {}
    },
    {
      "id": "6103767b-43c5-42c9-87d9-b16f58baca10",
      "cell_type": "markdown",
      "source": "Some of the popular languages that Data Scientists use are:\n\n<ol>\n<li>Python</li>\n<li>R</li>\n<li>Julia</li>\n</ol>",
      "metadata": {}
    },
    {
      "id": "deb3d992-519d-49b6-b6b7-e57cf5a2c4a9",
      "cell_type": "markdown",
      "source": "Some of the commonly used libraries used by Data Scientists include:\n\n<ol>\n<li>Pandas</li>\n<li>Numpy</li>\n<li>TensorFlow</li>\n</ol>",
      "metadata": {}
    },
    {
      "id": "7e58e0cd-4284-498e-b0ab-19162e5d5bf2",
      "cell_type": "markdown",
      "source": "<table>\n<tr>\n    <th>Data Science Tools</th>\n</tr>\n\n<tr>\n    <td>RStudio</td>\n</tr>\n<tr>\n    <td>Jupyter Lab</td>\n</tr>\n<tr>\n    <td>Apache Zeppelin</td>\n</tr>\n\n</table>",
      "metadata": {}
    },
    {
      "id": "68cb2a9c-bbb7-4af6-a3b7-8ad39c741866",
      "cell_type": "markdown",
      "source": "### Below are a few examples of evaluating arithmetic expressions in Python",
      "metadata": {}
    },
    {
      "id": "17e7ad88-8651-4db3-9f88-7e9b7b116c86",
      "cell_type": "code",
      "source": "#This a simple arithmetic expression to mutiply then add integers\n(3*4)+5",
      "metadata": {
        "trusted": true
      },
      "outputs": [
        {
          "execution_count": 1,
          "output_type": "execute_result",
          "data": {
            "text/plain": "17"
          },
          "metadata": {}
        }
      ],
      "execution_count": 1
    },
    {
      "id": "cf1a3da7-add1-4c1b-bf4c-b0c4d05472a8",
      "cell_type": "code",
      "source": "#This will convert 200 minutes to hours by diving by 60\n200/60",
      "metadata": {
        "trusted": true
      },
      "outputs": [
        {
          "execution_count": 2,
          "output_type": "execute_result",
          "data": {
            "text/plain": "3.3333333333333335"
          },
          "metadata": {}
        }
      ],
      "execution_count": 2
    },
    {
      "id": "7d572ebe-74cf-4abb-9da4-bd31eccd476b",
      "cell_type": "markdown",
      "source": "## Author\nBruno Justo",
      "metadata": {}
    }
  ]
}